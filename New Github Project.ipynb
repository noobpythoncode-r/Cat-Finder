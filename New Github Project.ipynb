{
 "cells": [
  {
   "cell_type": "code",
   "execution_count": 1,
   "id": "b2d47530",
   "metadata": {},
   "outputs": [],
   "source": [
    "from random import shuffle"
   ]
  },
  {
   "cell_type": "code",
   "execution_count": 2,
   "id": "d0c65169",
   "metadata": {},
   "outputs": [],
   "source": [
    "def animal_list(myanimallist):\n",
    "    shuffle(myanimallist)\n",
    "    return myanimallist"
   ]
  },
  {
   "cell_type": "code",
   "execution_count": 3,
   "id": "239a69b4",
   "metadata": {},
   "outputs": [],
   "source": [
    "def guess_place():\n",
    "    guess=''\n",
    "    while guess not in ['0','1','2']:\n",
    "        guess = input(\"Guess what cat is doing now : Can be in 0 for Home,1 for Playing or 2 for Sleeping\")\n",
    "    return int(guess)"
   ]
  },
  {
   "cell_type": "code",
   "execution_count": 4,
   "id": "bf1173e5",
   "metadata": {},
   "outputs": [],
   "source": [
    "def correct_answer(myanimallist,guess):\n",
    "    if myanimallist[guess]=='Cat':\n",
    "        print (\"Correct\")\n",
    "    else:\n",
    "        print(\"Wrong Answer\")\n",
    "        print(myanimallist)\n",
    "        print('Home','Playing','Sleeping')"
   ]
  },
  {
   "cell_type": "code",
   "execution_count": 5,
   "id": "8fc93061",
   "metadata": {},
   "outputs": [],
   "source": [
    "myanimallist=['Cat',' ',' ']"
   ]
  },
  {
   "cell_type": "code",
   "execution_count": 6,
   "id": "d5e3eccf",
   "metadata": {},
   "outputs": [],
   "source": [
    "a = animal_list(myanimallist)"
   ]
  },
  {
   "cell_type": "code",
   "execution_count": 7,
   "id": "e5fef121",
   "metadata": {},
   "outputs": [
    {
     "name": "stdout",
     "output_type": "stream",
     "text": [
      "Guess what cat is doing now : Can be in 0 for Home,1 for Playing or 2 for Sleeping0\n"
     ]
    }
   ],
   "source": [
    "b = guess_place()"
   ]
  },
  {
   "cell_type": "code",
   "execution_count": 8,
   "id": "b9964a63",
   "metadata": {},
   "outputs": [
    {
     "name": "stdout",
     "output_type": "stream",
     "text": [
      "Wrong Answer\n",
      "[' ', 'Cat', ' ']\n",
      "Home Playing Sleeping\n"
     ]
    }
   ],
   "source": [
    "correct_answer(a,b)"
   ]
  },
  {
   "cell_type": "code",
   "execution_count": null,
   "id": "c90ce393",
   "metadata": {},
   "outputs": [],
   "source": []
  }
 ],
 "metadata": {
  "kernelspec": {
   "display_name": "Python 3 (ipykernel)",
   "language": "python",
   "name": "python3"
  },
  "language_info": {
   "codemirror_mode": {
    "name": "ipython",
    "version": 3
   },
   "file_extension": ".py",
   "mimetype": "text/x-python",
   "name": "python",
   "nbconvert_exporter": "python",
   "pygments_lexer": "ipython3",
   "version": "3.9.13"
  }
 },
 "nbformat": 4,
 "nbformat_minor": 5
}
